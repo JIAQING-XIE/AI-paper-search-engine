{
 "cells": [
  {
   "cell_type": "code",
   "execution_count": 2,
   "id": "c3a38ede",
   "metadata": {
    "scrolled": true
   },
   "outputs": [
    {
     "data": {
      "text/plain": [
       "'/Users/jw/Desktop/AI-paper-search-engine/ml'"
      ]
     },
     "execution_count": 2,
     "metadata": {},
     "output_type": "execute_result"
    }
   ],
   "source": [
    "os.getcwd()"
   ]
  },
  {
   "cell_type": "code",
   "execution_count": 3,
   "id": "d71f59f6",
   "metadata": {},
   "outputs": [],
   "source": [
    "os.chdir(\"/Users/jw/Desktop/AI-paper-search-engine\")"
   ]
  },
  {
   "cell_type": "code",
   "execution_count": 4,
   "id": "965d5314",
   "metadata": {},
   "outputs": [
    {
     "name": "stdout",
     "output_type": "stream",
     "text": [
      "./Papers/ICRA/icra_2012_extended.csv\n",
      "./Papers/ICRA/icra_2015_extended.csv\n",
      "./Papers/ICRA/icra_2014_extended.csv\n",
      "./Papers/ICRA/icra_2013_extended.csv\n",
      "./Papers/ICRA/icra_2010.csv\n",
      "./Papers/ICRA/icra_2011.csv\n",
      "./Papers/ICRA/icra_2019_extended.csv\n",
      "./Papers/ICRA/icra_2013.csv\n",
      "./Papers/ICRA/icra_2012.csv\n",
      "./Papers/ICRA/icra_2016.csv\n",
      "./Papers/ICRA/icra_2018_extended.csv\n",
      "./Papers/ICRA/icra_2017.csv\n",
      "./Papers/ICRA/icra_2015.csv\n",
      "./Papers/ICRA/icra_2014.csv\n",
      "./Papers/ICRA/icra_2019.csv\n",
      "./Papers/ICRA/icra_2018.csv\n",
      "./Papers/ICRA/icra_2020.csv\n",
      "./Papers/ICRA/icra_2021.csv\n",
      "./Papers/ICRA/icra_2020_extended.csv\n",
      "./Papers/ICRA/icra_2011_extended.csv\n",
      "./Papers/ICRA/icra_2016_extended.csv\n",
      "./Papers/ICRA/icra_2021_extended.csv\n",
      "./Papers/ICRA/icra_2017_extended.csv\n",
      "./Papers/ICRA/icra_2010_extended.csv\n",
      "./Papers/WWW/www_2014_extended.csv\n",
      "./Papers/WWW/www_2013_extended.csv\n",
      "./Papers/WWW/www_2012_extended.csv\n",
      "./Papers/WWW/www_2015_extended.csv\n",
      "./Papers/WWW/www_2020.csv\n",
      "./Papers/WWW/www_2021.csv\n",
      "./Papers/WWW/www_2018_extended.csv\n",
      "./Papers/WWW/www_2019.csv\n",
      "./Papers/WWW/www_2019_extended.csv\n",
      "./Papers/WWW/www_2018.csv\n",
      "./Papers/WWW/www_2015.csv\n",
      "./Papers/WWW/www_2014.csv\n",
      "./Papers/WWW/www_2016.csv\n",
      "./Papers/WWW/www_2017.csv\n",
      "./Papers/WWW/www_2013.csv\n",
      "./Papers/WWW/www_2012.csv\n",
      "./Papers/WWW/www_2010.csv\n",
      "./Papers/WWW/www_2011.csv\n",
      "./Papers/WWW/www_2017_extended.csv\n",
      "./Papers/WWW/www_2010_extended.csv\n",
      "./Papers/WWW/www_2021_extended.csv\n",
      "./Papers/WWW/www_2011_extended.csv\n",
      "./Papers/WWW/www_2016_extended.csv\n",
      "./Papers/WWW/www_2020_extended.csv\n",
      "./Papers/NeurIPS/neurips_2021_extended.csv\n",
      "./Papers/NeurIPS/neurips_2019.csv\n",
      "./Papers/NeurIPS/neurips_2018.csv\n",
      "./Papers/NeurIPS/neurips_2010_extended.csv\n",
      "./Papers/NeurIPS/neurips_2017_extended.csv\n",
      "./Papers/NeurIPS/neurips_2020_extended.csv\n",
      "./Papers/NeurIPS/neurips_2016_extended.csv\n",
      "./Papers/NeurIPS/neurips_2011_extended.csv\n",
      "./Papers/NeurIPS/neurips_2020.csv\n",
      "./Papers/NeurIPS/neurips_2021.csv\n",
      "./Papers/NeurIPS/neurips_2009.csv\n",
      "./Papers/NeurIPS/neurips_2018_extended.csv\n",
      "./Papers/NeurIPS/neurips_2019_extended.csv\n",
      "./Papers/NeurIPS/neurips_2010.csv\n",
      "./Papers/NeurIPS/neurips_2011.csv\n",
      "./Papers/NeurIPS/neurips_2013_extended.csv\n",
      "./Papers/NeurIPS/neurips_2013.csv\n",
      "./Papers/NeurIPS/neurips_2014_extended.csv\n",
      "./Papers/NeurIPS/neurips_2012.csv\n",
      "./Papers/NeurIPS/neurips_2016.csv\n",
      "./Papers/NeurIPS/neurips_2017.csv\n",
      "./Papers/NeurIPS/neurips_2015.csv\n",
      "./Papers/NeurIPS/neurips_2014.csv\n",
      "./Papers/NeurIPS/neurips_2015_extended.csv\n",
      "./Papers/NeurIPS/neurips_2012_extended.csv\n",
      "./Papers/KDD/kdd_2013_extended.csv\n",
      "./Papers/KDD/kdd_2014_extended.csv\n",
      "./Papers/KDD/kdd_2015_extended.csv\n",
      "./Papers/KDD/kdd_2012_extended.csv\n",
      "./Papers/KDD/kdd_2018_extended.csv\n",
      "./Papers/KDD/kdd_2018.csv\n",
      "./Papers/KDD/kdd_2019.csv\n",
      "./Papers/KDD/kdd_2021.csv\n",
      "./Papers/KDD/kdd_2019_extended.csv\n",
      "./Papers/KDD/kdd_2020.csv\n",
      "./Papers/KDD/kdd_2012.csv\n",
      "./Papers/KDD/kdd_2013.csv\n",
      "./Papers/KDD/kdd_2011.csv\n",
      "./Papers/KDD/kdd_2010.csv\n",
      "./Papers/KDD/kdd_2014.csv\n",
      "./Papers/KDD/kdd_2015.csv\n",
      "./Papers/KDD/kdd_2017.csv\n",
      "./Papers/KDD/kdd_2016.csv\n",
      "./Papers/KDD/kdd_2021_extended.csv\n",
      "./Papers/KDD/kdd_2010_extended.csv\n",
      "./Papers/KDD/kdd_2017_extended.csv\n",
      "./Papers/KDD/kdd_2020_extended.csv\n",
      "./Papers/KDD/kdd_2016_extended.csv\n",
      "./Papers/KDD/kdd_2011_extended.csv\n",
      "./Papers/EMNLP/emnlp_2016.csv\n",
      "./Papers/EMNLP/emnlp_2017.csv\n",
      "./Papers/EMNLP/emnlp_2015.csv\n",
      "./Papers/EMNLP/emnlp_2014.csv\n",
      "./Papers/EMNLP/emnlp_2010.csv\n",
      "./Papers/EMNLP/emnlp_2011.csv\n",
      "./Papers/EMNLP/emnlp_2013.csv\n",
      "./Papers/EMNLP/emnlp_2012.csv\n",
      "./Papers/EMNLP/emnlp_2016_extended.csv\n",
      "./Papers/EMNLP/emnlp_2011_extended.csv\n",
      "./Papers/EMNLP/emnlp_2020_extended.csv\n",
      "./Papers/EMNLP/emnlp_2010_extended.csv\n",
      "./Papers/EMNLP/emnlp_2017_extended.csv\n",
      "./Papers/EMNLP/emnlp_2021_extended.csv\n",
      "./Papers/EMNLP/emnlp_2015_extended.csv\n",
      "./Papers/EMNLP/emnlp_2012_extended.csv\n",
      "./Papers/EMNLP/emnlp_2013_extended.csv\n",
      "./Papers/EMNLP/emnlp_2014_extended.csv\n",
      "./Papers/EMNLP/emnlp_2020.csv\n",
      "./Papers/EMNLP/emnlp_2019_extended.csv\n",
      "./Papers/EMNLP/emnlp_2021.csv\n",
      "./Papers/EMNLP/emnlp_2019.csv\n",
      "./Papers/EMNLP/emnlp_2018.csv\n",
      "./Papers/EMNLP/emnlp_2018_extended.csv\n",
      "./Papers/ICML/icml_2020_extended.csv\n",
      "./Papers/ICML/icml_2013.csv\n",
      "./Papers/ICML/icml_2016_extended.csv\n",
      "./Papers/ICML/icml_2016.csv\n",
      "./Papers/ICML/icml_2017.csv\n",
      "./Papers/ICML/icml_2021_extended.csv\n",
      "./Papers/ICML/icml_2017_extended.csv\n",
      "./Papers/ICML/icml_2015.csv\n",
      "./Papers/ICML/icml_2014.csv\n",
      "./Papers/ICML/icml_2019.csv\n",
      "./Papers/ICML/icml_2018.csv\n",
      "./Papers/ICML/icml_2015_extended.csv\n",
      "./Papers/ICML/icml_2020.csv\n",
      "./Papers/ICML/icml_2014_extended.csv\n",
      "./Papers/ICML/icml_2021.csv\n",
      "./Papers/ICML/icml_2013_extended.csv\n",
      "./Papers/ICML/icml_2019_extended.csv\n",
      "./Papers/ICML/icml_2018_extended.csv\n",
      "./Papers/CVPR/cvpr_2017.csv\n",
      "./Papers/CVPR/cvpr_2016.csv\n",
      "./Papers/CVPR/cvpr_2014.csv\n",
      "./Papers/CVPR/cvpr_2013_extended.csv\n",
      "./Papers/CVPR/cvpr_2014_extended.csv\n",
      "./Papers/CVPR/cvpr_2015.csv\n",
      "./Papers/CVPR/cvpr_2015_extended.csv\n",
      "./Papers/CVPR/cvpr_2013.csv\n",
      "./Papers/CVPR/cvpr_2018_extended.csv\n",
      "./Papers/CVPR/cvpr_2019_extended.csv\n",
      "./Papers/CVPR/cvpr_2021_extended.csv\n",
      "./Papers/CVPR/cvpr_2021.csv\n",
      "./Papers/CVPR/cvpr_2017_extended.csv\n",
      "./Papers/CVPR/cvpr_2020.csv\n",
      "./Papers/CVPR/cvpr_2018.csv\n",
      "./Papers/CVPR/cvpr_2020_extended.csv\n",
      "./Papers/CVPR/cvpr_2019.csv\n",
      "./Papers/CVPR/cvpr_2016_extended.csv\n",
      "./Papers/AAAI/aaai_2016.csv\n",
      "./Papers/AAAI/aaai_2016_extended.csv\n",
      "./Papers/AAAI/aaai_2011_extended.csv\n",
      "./Papers/AAAI/aaai_2017.csv\n",
      "./Papers/AAAI/aaai_2015.csv\n",
      "./Papers/AAAI/aaai_2020_extended.csv\n",
      "./Papers/AAAI/aaai_2014.csv\n",
      "./Papers/AAAI/aaai_2010_extended.csv\n",
      "./Papers/AAAI/aaai_2010.csv\n",
      "./Papers/AAAI/aaai_2017_extended.csv\n",
      "./Papers/AAAI/aaai_2011.csv\n",
      "./Papers/AAAI/aaai_2013.csv\n",
      "./Papers/AAAI/aaai_2021_extended.csv\n",
      "./Papers/AAAI/aaai_2012.csv\n",
      "./Papers/AAAI/aaai_2015_extended.csv\n",
      "./Papers/AAAI/aaai_2012_extended.csv\n",
      "./Papers/AAAI/aaai_2020.csv\n",
      "./Papers/AAAI/aaai_2021.csv\n",
      "./Papers/AAAI/aaai_2013_extended.csv\n",
      "./Papers/AAAI/aaai_2014_extended.csv\n",
      "./Papers/ICCV/iccv_2015.csv\n",
      "./Papers/ICCV/iccv_2017.csv\n",
      "./Papers/ICCV/iccv_2013.csv\n",
      "./Papers/ICCV/iccv_2021_extended.csv\n",
      "./Papers/ICCV/iccv_2017_extended.csv\n",
      "./Papers/ICCV/iccv_2021.csv\n",
      "./Papers/ICCV/iccv_2015_extended.csv\n",
      "./Papers/ICCV/iccv_2019.csv\n",
      "./Papers/ICCV/iccv_2013_extended.csv\n",
      "./Papers/ICCV/iccv_2019_extended.csv\n",
      "./Papers/ICLR/iclr_2014.csv\n",
      "./Papers/ICLR/iclr_2015.csv\n",
      "./Papers/ICLR/iclr_2016.csv\n",
      "./Papers/ICLR/iclr_2013.csv\n",
      "./Papers/ICLR/iclr_2014_extended.csv\n",
      "./Papers/ICLR/iclr_2013_extended.csv\n",
      "./Papers/ICLR/iclr_2015_extended.csv\n",
      "./Papers/ICLR/iclr_2016_extended.csv\n",
      "./Papers/SIGIR/sigir_2018.csv\n",
      "./Papers/SIGIR/sigir_2018_extended.csv\n",
      "./Papers/SIGIR/sigir_2019.csv\n",
      "./Papers/SIGIR/sigir_2021.csv\n",
      "./Papers/SIGIR/sigir_2020.csv\n",
      "./Papers/SIGIR/sigir_2019_extended.csv\n",
      "./Papers/SIGIR/sigir_2014_extended.csv\n",
      "./Papers/SIGIR/sigir_2013_extended.csv\n",
      "./Papers/SIGIR/sigir_2012_extended.csv\n",
      "./Papers/SIGIR/sigir_2015_extended.csv\n",
      "./Papers/SIGIR/sigir_2017_extended.csv\n",
      "./Papers/SIGIR/sigir_2010_extended.csv\n",
      "./Papers/SIGIR/sigir_2021_extended.csv\n",
      "./Papers/SIGIR/sigir_2011_extended.csv\n",
      "./Papers/SIGIR/sigir_2016_extended.csv\n",
      "./Papers/SIGIR/sigir_2020_extended.csv\n",
      "./Papers/SIGIR/sigir_2012.csv\n",
      "./Papers/SIGIR/sigir_2013.csv\n",
      "./Papers/SIGIR/sigir_2011.csv\n",
      "./Papers/SIGIR/sigir_2010.csv\n",
      "./Papers/SIGIR/sigir_2014.csv\n",
      "./Papers/SIGIR/sigir_2015.csv\n",
      "./Papers/SIGIR/sigir_2017.csv\n",
      "./Papers/SIGIR/sigir_2016.csv\n",
      "./Papers/ACL/acl_2014.csv\n",
      "./Papers/ACL/acl_2015.csv\n",
      "./Papers/ACL/acl_2017.csv\n",
      "./Papers/ACL/acl_2013_extended.csv\n",
      "./Papers/ACL/acl_2014_extended.csv\n",
      "./Papers/ACL/acl_2016.csv\n",
      "./Papers/ACL/acl_2012.csv\n",
      "./Papers/ACL/acl_2013.csv\n",
      "./Papers/ACL/acl_2015_extended.csv\n",
      "./Papers/ACL/acl_2012_extended.csv\n",
      "./Papers/ACL/acl_2011.csv\n",
      "./Papers/ACL/acl_2010.csv\n",
      "./Papers/ACL/acl_2018_extended.csv\n",
      "./Papers/ACL/acl_2019_extended.csv\n",
      "./Papers/ACL/acl_2021.csv\n",
      "./Papers/ACL/acl_2020.csv\n",
      "./Papers/ACL/acl_2021_extended.csv\n",
      "./Papers/ACL/acl_2010_extended.csv\n",
      "./Papers/ACL/acl_2017_extended.csv\n",
      "./Papers/ACL/acl_2020_extended.csv\n",
      "./Papers/ACL/acl_2018.csv\n",
      "./Papers/ACL/acl_2019.csv\n",
      "./Papers/ACL/acl_2016_extended.csv\n",
      "./Papers/ACL/acl_2011_extended.csv\n"
     ]
    }
   ],
   "source": [
    "import pandas as pd\n",
    "import os\n",
    "\n",
    "base_df = pd.DataFrame()\n",
    "\n",
    "clean_data_folder = \"./Papers\"\n",
    "\n",
    "for filename in os.listdir(clean_data_folder):\n",
    "    full_path1 = f\"{clean_data_folder}/{filename}\"\n",
    "    for filename2 in os.listdir(full_path1):\n",
    "        full_path = f\"{clean_data_folder}/{filename}/{filename2}\"\n",
    "        print(full_path)\n",
    "        \n",
    "        # load data into a DataFrame\n",
    "        new_df = pd.read_csv(full_path)\n",
    "\n",
    "        # merge into the base DataFrame\n",
    "        base_df = pd.concat([base_df, new_df])"
   ]
  },
  {
   "cell_type": "code",
   "execution_count": 5,
   "id": "74796447",
   "metadata": {},
   "outputs": [],
   "source": [
    "base_df.to_csv(f\"./Papers/papers.csv\", index=False)"
   ]
  },
  {
   "cell_type": "code",
   "execution_count": 6,
   "id": "bb766f96",
   "metadata": {},
   "outputs": [
    {
     "data": {
      "text/plain": [
       "123690"
      ]
     },
     "execution_count": 6,
     "metadata": {},
     "output_type": "execute_result"
    }
   ],
   "source": [
    "len(base_df)"
   ]
  },
  {
   "cell_type": "code",
   "execution_count": 7,
   "id": "84be82b5",
   "metadata": {
    "scrolled": true
   },
   "outputs": [
    {
     "data": {
      "text/html": [
       "<div>\n",
       "<style scoped>\n",
       "    .dataframe tbody tr th:only-of-type {\n",
       "        vertical-align: middle;\n",
       "    }\n",
       "\n",
       "    .dataframe tbody tr th {\n",
       "        vertical-align: top;\n",
       "    }\n",
       "\n",
       "    .dataframe thead th {\n",
       "        text-align: right;\n",
       "    }\n",
       "</style>\n",
       "<table border=\"1\" class=\"dataframe\">\n",
       "  <thead>\n",
       "    <tr style=\"text-align: right;\">\n",
       "      <th></th>\n",
       "      <th>conference</th>\n",
       "      <th>url</th>\n",
       "      <th>title</th>\n",
       "      <th>authors</th>\n",
       "      <th>abstract</th>\n",
       "      <th>citations</th>\n",
       "    </tr>\n",
       "  </thead>\n",
       "  <tbody>\n",
       "    <tr>\n",
       "      <th>0</th>\n",
       "      <td>icra</td>\n",
       "      <td>https://ieeexplore.ieee.org/stamp/stamp.jsp?tp...</td>\n",
       "      <td>State estimation for aggressive flight in GPS-...</td>\n",
       "      <td>Adam Bry,Abraham Bachrach,Nicholas Roy,</td>\n",
       "      <td>In this paper we present a state estimation me...</td>\n",
       "      <td>204.0</td>\n",
       "    </tr>\n",
       "    <tr>\n",
       "      <th>1</th>\n",
       "      <td>icra</td>\n",
       "      <td>https://ieeexplore.ieee.org/stamp/stamp.jsp?tp...</td>\n",
       "      <td>Autonomous indoor 3D exploration with a micro-...</td>\n",
       "      <td>Shaojie Shen,Nathan Michael,Vijay Kumar,</td>\n",
       "      <td>In this paper, we propose a stochastic differe...</td>\n",
       "      <td>155.0</td>\n",
       "    </tr>\n",
       "    <tr>\n",
       "      <th>2</th>\n",
       "      <td>icra</td>\n",
       "      <td>https://ieeexplore.ieee.org/stamp/stamp.jsp?tp...</td>\n",
       "      <td>Wind field estimation for autonomous dynamic s...</td>\n",
       "      <td>Jack W. Langelaan,John Spletzer,Corey Montella...</td>\n",
       "      <td>A method for distributed parameter estimation ...</td>\n",
       "      <td>52.0</td>\n",
       "    </tr>\n",
       "    <tr>\n",
       "      <th>3</th>\n",
       "      <td>icra</td>\n",
       "      <td>https://ieeexplore.ieee.org/stamp/stamp.jsp?tp...</td>\n",
       "      <td>Decentralized formation control with variable ...</td>\n",
       "      <td>Matthew Turpin,Nathan Michael,Vijay Kumar,</td>\n",
       "      <td>We address formation control for a team of qua...</td>\n",
       "      <td>159.0</td>\n",
       "    </tr>\n",
       "    <tr>\n",
       "      <th>4</th>\n",
       "      <td>icra</td>\n",
       "      <td>https://ieeexplore.ieee.org/stamp/stamp.jsp?tp...</td>\n",
       "      <td>Versatile distributed pose estimation and sens...</td>\n",
       "      <td>Stephan Weiss,Markus W. Achtelik,Margarita Chl...</td>\n",
       "      <td>In this paper, we present a versatile framewor...</td>\n",
       "      <td>144.0</td>\n",
       "    </tr>\n",
       "  </tbody>\n",
       "</table>\n",
       "</div>"
      ],
      "text/plain": [
       "  conference                                                url  \\\n",
       "0       icra  https://ieeexplore.ieee.org/stamp/stamp.jsp?tp...   \n",
       "1       icra  https://ieeexplore.ieee.org/stamp/stamp.jsp?tp...   \n",
       "2       icra  https://ieeexplore.ieee.org/stamp/stamp.jsp?tp...   \n",
       "3       icra  https://ieeexplore.ieee.org/stamp/stamp.jsp?tp...   \n",
       "4       icra  https://ieeexplore.ieee.org/stamp/stamp.jsp?tp...   \n",
       "\n",
       "                                               title  \\\n",
       "0  State estimation for aggressive flight in GPS-...   \n",
       "1  Autonomous indoor 3D exploration with a micro-...   \n",
       "2  Wind field estimation for autonomous dynamic s...   \n",
       "3  Decentralized formation control with variable ...   \n",
       "4  Versatile distributed pose estimation and sens...   \n",
       "\n",
       "                                             authors  \\\n",
       "0            Adam Bry,Abraham Bachrach,Nicholas Roy,   \n",
       "1           Shaojie Shen,Nathan Michael,Vijay Kumar,   \n",
       "2  Jack W. Langelaan,John Spletzer,Corey Montella...   \n",
       "3         Matthew Turpin,Nathan Michael,Vijay Kumar,   \n",
       "4  Stephan Weiss,Markus W. Achtelik,Margarita Chl...   \n",
       "\n",
       "                                            abstract  citations  \n",
       "0  In this paper we present a state estimation me...      204.0  \n",
       "1  In this paper, we propose a stochastic differe...      155.0  \n",
       "2  A method for distributed parameter estimation ...       52.0  \n",
       "3  We address formation control for a team of qua...      159.0  \n",
       "4  In this paper, we present a versatile framewor...      144.0  "
      ]
     },
     "execution_count": 7,
     "metadata": {},
     "output_type": "execute_result"
    }
   ],
   "source": [
    "base_df.head()"
   ]
  },
  {
   "cell_type": "code",
   "execution_count": 26,
   "id": "2a619679",
   "metadata": {},
   "outputs": [
    {
     "data": {
      "text/plain": [
       "Index(['conference', 'url', 'title', 'authors', 'abstract', 'citations'], dtype='object')"
      ]
     },
     "execution_count": 26,
     "metadata": {},
     "output_type": "execute_result"
    }
   ],
   "source": [
    "base_df.columns"
   ]
  },
  {
   "cell_type": "code",
   "execution_count": 27,
   "id": "d4c68e23",
   "metadata": {},
   "outputs": [
    {
     "data": {
      "text/plain": [
       "(123690,)"
      ]
     },
     "execution_count": 27,
     "metadata": {},
     "output_type": "execute_result"
    }
   ],
   "source": [
    "base_df['abstract'].shape"
   ]
  },
  {
   "cell_type": "code",
   "execution_count": 28,
   "id": "18602f6d",
   "metadata": {},
   "outputs": [
    {
     "data": {
      "text/plain": [
       "123690"
      ]
     },
     "execution_count": 28,
     "metadata": {},
     "output_type": "execute_result"
    }
   ],
   "source": [
    "len(base_df['abstract'].values)"
   ]
  },
  {
   "cell_type": "code",
   "execution_count": 29,
   "id": "c2cd7403",
   "metadata": {},
   "outputs": [
    {
     "data": {
      "text/plain": [
       "'In this paper we present a state estimation method based on an inertial measurement unit (IMU) and a planar laser range finder suitable for use in real-time on a fixed-wing micro air vehicle (MAV). The algorithm is capable of maintaing accurate state estimates during aggressive flight in unstructured 3D environments without the use of an external positioning system. Our localization algorithm is based on an extension of the Gaussian Particle Filter. We partition the state according to measurement independence relationships and then calculate a pseudo-linear update which allows us to use 20x fewer particles than a naive implementation to achieve similar accuracy in the state estimate. We also propose a multi-step forward fitting method to identify the noise parameters of the IMU and compare results with and without accurate position measurements. Our process and measurement models integrate naturally with an exponential coordinates representation of the attitude uncertainty. We demonstrate our algorithms experimentally on a fixed-wing vehicle flying in a challenging indoor environment.'"
      ]
     },
     "execution_count": 29,
     "metadata": {},
     "output_type": "execute_result"
    }
   ],
   "source": [
    "base_df['abstract'].values[0]"
   ]
  },
  {
   "cell_type": "code",
   "execution_count": 30,
   "id": "100e265b",
   "metadata": {},
   "outputs": [
    {
     "data": {
      "text/plain": [
       "'State estimation for aggressive flight in GPS-denied environments using onboard sensing'"
      ]
     },
     "execution_count": 30,
     "metadata": {},
     "output_type": "execute_result"
    }
   ],
   "source": [
    "base_df['title'].values[0]"
   ]
  },
  {
   "cell_type": "code",
   "execution_count": 2,
   "id": "8532654b",
   "metadata": {},
   "outputs": [
    {
     "name": "stdout",
     "output_type": "stream",
     "text": [
      "Collecting keybert\n",
      "  Using cached keybert-0.5.0.tar.gz (19 kB)\n",
      "Collecting sentence-transformers>=0.3.8\n",
      "  Using cached sentence-transformers-2.2.0.tar.gz (79 kB)\n",
      "Collecting scikit-learn>=0.22.2\n",
      "  Downloading scikit_learn-1.0.2-cp38-cp38-macosx_10_13_x86_64.whl (7.9 MB)\n",
      "\u001b[K     |████████████████████████████████| 7.9 MB 6.2 MB/s eta 0:00:01\n",
      "\u001b[?25hRequirement already satisfied: numpy>=1.18.5 in /Users/jw/opt/anaconda3/envs/ttds/lib/python3.8/site-packages (from keybert) (1.22.2)\n",
      "Collecting rich>=10.4.0\n",
      "  Using cached rich-11.2.0-py3-none-any.whl (217 kB)\n",
      "Collecting commonmark<0.10.0,>=0.9.0\n",
      "  Using cached commonmark-0.9.1-py2.py3-none-any.whl (51 kB)\n",
      "Requirement already satisfied: pygments<3.0.0,>=2.6.0 in /Users/jw/opt/anaconda3/envs/ttds/lib/python3.8/site-packages (from rich>=10.4.0->keybert) (2.11.2)\n",
      "Collecting colorama<0.5.0,>=0.4.0\n",
      "  Downloading colorama-0.4.4-py2.py3-none-any.whl (16 kB)\n",
      "Requirement already satisfied: scipy>=1.1.0 in /Users/jw/opt/anaconda3/envs/ttds/lib/python3.8/site-packages (from scikit-learn>=0.22.2->keybert) (1.8.0)\n",
      "Collecting threadpoolctl>=2.0.0\n",
      "  Downloading threadpoolctl-3.1.0-py3-none-any.whl (14 kB)\n",
      "Requirement already satisfied: joblib>=0.11 in /Users/jw/opt/anaconda3/envs/ttds/lib/python3.8/site-packages (from scikit-learn>=0.22.2->keybert) (1.1.0)\n",
      "Requirement already satisfied: transformers<5.0.0,>=4.6.0 in /Users/jw/opt/anaconda3/envs/ttds/lib/python3.8/site-packages (from sentence-transformers>=0.3.8->keybert) (4.16.2)\n",
      "Requirement already satisfied: tqdm in /Users/jw/opt/anaconda3/envs/ttds/lib/python3.8/site-packages (from sentence-transformers>=0.3.8->keybert) (4.63.0)\n",
      "Requirement already satisfied: torch>=1.6.0 in /Users/jw/opt/anaconda3/envs/ttds/lib/python3.8/site-packages (from sentence-transformers>=0.3.8->keybert) (1.10.2)\n",
      "Collecting torchvision\n",
      "  Downloading torchvision-0.11.3-cp38-cp38-macosx_10_9_x86_64.whl (1.2 MB)\n",
      "\u001b[K     |████████████████████████████████| 1.2 MB 3.8 MB/s eta 0:00:01\n",
      "\u001b[?25hRequirement already satisfied: nltk in /Users/jw/opt/anaconda3/envs/ttds/lib/python3.8/site-packages (from sentence-transformers>=0.3.8->keybert) (3.7)\n",
      "Requirement already satisfied: sentencepiece in /Users/jw/opt/anaconda3/envs/ttds/lib/python3.8/site-packages (from sentence-transformers>=0.3.8->keybert) (0.1.96)\n",
      "Requirement already satisfied: huggingface-hub in /Users/jw/opt/anaconda3/envs/ttds/lib/python3.8/site-packages (from sentence-transformers>=0.3.8->keybert) (0.4.0)\n",
      "Requirement already satisfied: typing-extensions in /Users/jw/opt/anaconda3/envs/ttds/lib/python3.8/site-packages (from torch>=1.6.0->sentence-transformers>=0.3.8->keybert) (4.1.1)\n",
      "Requirement already satisfied: tokenizers!=0.11.3,>=0.10.1 in /Users/jw/opt/anaconda3/envs/ttds/lib/python3.8/site-packages (from transformers<5.0.0,>=4.6.0->sentence-transformers>=0.3.8->keybert) (0.11.6)\n",
      "Requirement already satisfied: requests in /Users/jw/opt/anaconda3/envs/ttds/lib/python3.8/site-packages (from transformers<5.0.0,>=4.6.0->sentence-transformers>=0.3.8->keybert) (2.27.1)\n",
      "Requirement already satisfied: regex!=2019.12.17 in /Users/jw/opt/anaconda3/envs/ttds/lib/python3.8/site-packages (from transformers<5.0.0,>=4.6.0->sentence-transformers>=0.3.8->keybert) (2022.3.2)\n",
      "Requirement already satisfied: packaging>=20.0 in /Users/jw/opt/anaconda3/envs/ttds/lib/python3.8/site-packages (from transformers<5.0.0,>=4.6.0->sentence-transformers>=0.3.8->keybert) (21.3)\n",
      "Requirement already satisfied: pyyaml>=5.1 in /Users/jw/opt/anaconda3/envs/ttds/lib/python3.8/site-packages (from transformers<5.0.0,>=4.6.0->sentence-transformers>=0.3.8->keybert) (6.0)\n",
      "Requirement already satisfied: sacremoses in /Users/jw/opt/anaconda3/envs/ttds/lib/python3.8/site-packages (from transformers<5.0.0,>=4.6.0->sentence-transformers>=0.3.8->keybert) (0.0.47)\n",
      "Requirement already satisfied: filelock in /Users/jw/opt/anaconda3/envs/ttds/lib/python3.8/site-packages (from transformers<5.0.0,>=4.6.0->sentence-transformers>=0.3.8->keybert) (3.6.0)\n",
      "Requirement already satisfied: pyparsing!=3.0.5,>=2.0.2 in /Users/jw/opt/anaconda3/envs/ttds/lib/python3.8/site-packages (from packaging>=20.0->transformers<5.0.0,>=4.6.0->sentence-transformers>=0.3.8->keybert) (3.0.7)\n",
      "Requirement already satisfied: click in /Users/jw/opt/anaconda3/envs/ttds/lib/python3.8/site-packages (from nltk->sentence-transformers>=0.3.8->keybert) (8.0.4)\n",
      "Requirement already satisfied: charset-normalizer~=2.0.0 in /Users/jw/opt/anaconda3/envs/ttds/lib/python3.8/site-packages (from requests->transformers<5.0.0,>=4.6.0->sentence-transformers>=0.3.8->keybert) (2.0.12)\n",
      "Requirement already satisfied: certifi>=2017.4.17 in /Users/jw/opt/anaconda3/envs/ttds/lib/python3.8/site-packages (from requests->transformers<5.0.0,>=4.6.0->sentence-transformers>=0.3.8->keybert) (2021.10.8)\n",
      "Requirement already satisfied: urllib3<1.27,>=1.21.1 in /Users/jw/opt/anaconda3/envs/ttds/lib/python3.8/site-packages (from requests->transformers<5.0.0,>=4.6.0->sentence-transformers>=0.3.8->keybert) (1.26.8)\n",
      "Requirement already satisfied: idna<4,>=2.5 in /Users/jw/opt/anaconda3/envs/ttds/lib/python3.8/site-packages (from requests->transformers<5.0.0,>=4.6.0->sentence-transformers>=0.3.8->keybert) (3.3)\n",
      "Requirement already satisfied: six in /Users/jw/opt/anaconda3/envs/ttds/lib/python3.8/site-packages (from sacremoses->transformers<5.0.0,>=4.6.0->sentence-transformers>=0.3.8->keybert) (1.16.0)\n",
      "Collecting pillow!=8.3.0,>=5.3.0\n",
      "  Downloading Pillow-9.0.1-cp38-cp38-macosx_10_10_x86_64.whl (3.0 MB)\n",
      "\u001b[K     |████████████████████████████████| 3.0 MB 4.3 MB/s eta 0:00:01\n",
      "\u001b[?25hBuilding wheels for collected packages: keybert, sentence-transformers\n",
      "  Building wheel for keybert (setup.py) ... \u001b[?25ldone\n",
      "\u001b[?25h  Created wheel for keybert: filename=keybert-0.5.0-py3-none-any.whl size=20491 sha256=90b81ff38829cbe2a9a4a5ceee0616cd3779387aba2d94c1dc840a6de0e091ff\n",
      "  Stored in directory: /Users/jw/Library/Caches/pip/wheels/b2/a2/41/91076fdeb475bad8934810b0148532cace93ae0dbd3d5e1be2\n",
      "  Building wheel for sentence-transformers (setup.py) ... \u001b[?25ldone\n",
      "\u001b[?25h  Created wheel for sentence-transformers: filename=sentence_transformers-2.2.0-py3-none-any.whl size=120747 sha256=b8ed36731b4ec19d6ecd82a64f98a035735dd4a8b9b67cc5699704a4c4553dae\n",
      "  Stored in directory: /Users/jw/Library/Caches/pip/wheels/0c/b6/fb/2289a932c365293ad865fc1fe9d2db694d5584241c6d670874\n",
      "Successfully built keybert sentence-transformers\n",
      "Installing collected packages: threadpoolctl, pillow, torchvision, scikit-learn, commonmark, colorama, sentence-transformers, rich, keybert\n",
      "Successfully installed colorama-0.4.4 commonmark-0.9.1 keybert-0.5.0 pillow-9.0.1 rich-11.2.0 scikit-learn-1.0.2 sentence-transformers-2.2.0 threadpoolctl-3.1.0 torchvision-0.11.3\n"
     ]
    }
   ],
   "source": [
    "!pip install keybert\n",
    "from keybert import KeyBERT"
   ]
  },
  {
   "cell_type": "code",
   "execution_count": 5,
   "id": "2e64c5e9",
   "metadata": {},
   "outputs": [],
   "source": [
    "kw_model = KeyBERT()"
   ]
  },
  {
   "cell_type": "code",
   "execution_count": 31,
   "id": "8c16ec76",
   "metadata": {},
   "outputs": [
    {
     "data": {
      "text/plain": [
       "[('flying', 0.2808),\n",
       " ('estimation', 0.279),\n",
       " ('localization', 0.2661),\n",
       " ('inertial', 0.251),\n",
       " ('laser', 0.2365)]"
      ]
     },
     "execution_count": 31,
     "metadata": {},
     "output_type": "execute_result"
    }
   ],
   "source": [
    "keywords = kw_model.extract_keywords(base_df['abstract'].values[0])\n",
    "keywords"
   ]
  },
  {
   "cell_type": "code",
   "execution_count": 24,
   "id": "0c30dc6f",
   "metadata": {},
   "outputs": [
    {
     "data": {
      "text/plain": [
       "[('gps', 0.4113),\n",
       " ('flight', 0.3475),\n",
       " ('estimation', 0.2997),\n",
       " ('onboard', 0.2711),\n",
       " ('sensing', 0.2492)]"
      ]
     },
     "execution_count": 24,
     "metadata": {},
     "output_type": "execute_result"
    }
   ],
   "source": [
    "keywords2 = kw_model.extract_keywords(base_df['title'].values[0])\n",
    "keywords2"
   ]
  },
  {
   "cell_type": "code",
   "execution_count": 3,
   "id": "76f05918",
   "metadata": {},
   "outputs": [],
   "source": [
    "a = \"Knowledge Graph Completion (KGC) has been proposed to improve Knowledge Graphs by filling in missing connections via link prediction or relation extraction. One of the main difficulties for KGC is a low resource problem. Previous approaches assume sufficient training triples to learn versatile vectors for entities and relations, or a satisfactory number of labeled sentences to train a competent relation extraction model. However, low resource relations are very common in KGs, and those newly added relations often do not have many known samples for training. In this work, we aim at predicting new facts under a challenging setting where only limited training instances are available. We propose a general framework called Weighted Relation Adversarial Network, which utilizes an adversarial procedure to help adapt knowledge/features learned from high resource relations to different but related low resource relations. Specifically, the framework takes advantage of a relation discriminator to distinguish between samples from different relations, and help learn relation-invariant features more transferable from source relations to target relations. Experimental results show that the proposed approach outperforms previous methods regarding low resource settings for both link prediction and relation extraction.\""
   ]
  },
  {
   "cell_type": "code",
   "execution_count": 6,
   "id": "bd8b36fe",
   "metadata": {},
   "outputs": [
    {
     "data": {
      "text/plain": [
       "[('relations', 0.386),\n",
       " ('relation', 0.3409),\n",
       " ('resource', 0.29),\n",
       " ('knowledge', 0.2841),\n",
       " ('adversarial', 0.272)]"
      ]
     },
     "execution_count": 6,
     "metadata": {},
     "output_type": "execute_result"
    }
   ],
   "source": [
    "keyword = kw_model.extract_keywords(a)\n",
    "keyword"
   ]
  },
  {
   "cell_type": "code",
   "execution_count": 7,
   "id": "2844533e",
   "metadata": {},
   "outputs": [
    {
     "data": {
      "text/plain": [
       "'Knowledge Graph Completion (KGC) has been proposed to improve Knowledge Graphs by filling in missing connections via link prediction or relation extraction. One of the main difficulties for KGC is a low resource problem. Previous approaches assume sufficient training triples to learn versatile vectors for entities and relations, or a satisfactory number of labeled sentences to train a competent relation extraction model. However, low resource relations are very common in KGs, and those newly added relations often do not have many known samples for training. In this work, we aim at predicting new facts under a challenging setting where only limited training instances are available. We propose a general framework called Weighted Relation Adversarial Network, which utilizes an adversarial procedure to help adapt knowledge/features learned from high resource relations to different but related low resource relations. Specifically, the framework takes advantage of a relation discriminator to distinguish between samples from different relations, and help learn relation-invariant features more transferable from source relations to target relations. Experimental results show that the proposed approach outperforms previous methods regarding low resource settings for both link prediction and relation extraction.'"
      ]
     },
     "execution_count": 7,
     "metadata": {},
     "output_type": "execute_result"
    }
   ],
   "source": [
    "a"
   ]
  },
  {
   "cell_type": "code",
   "execution_count": null,
   "id": "ce15b0a4",
   "metadata": {},
   "outputs": [],
   "source": [
    "t = \"Relation Adversarial Network for Low Resource Knowledge Graph Completion\""
   ]
  },
  {
   "cell_type": "code",
   "execution_count": null,
   "id": "0527c9f3",
   "metadata": {},
   "outputs": [],
   "source": [
    "keyword = kw_model.extract_keywords(t)\n",
    "keyword"
   ]
  }
 ],
 "metadata": {
  "kernelspec": {
   "display_name": "Python 3 (ipykernel)",
   "language": "python",
   "name": "python3"
  },
  "language_info": {
   "codemirror_mode": {
    "name": "ipython",
    "version": 3
   },
   "file_extension": ".py",
   "mimetype": "text/x-python",
   "name": "python",
   "nbconvert_exporter": "python",
   "pygments_lexer": "ipython3",
   "version": "3.8.12"
  }
 },
 "nbformat": 4,
 "nbformat_minor": 5
}
