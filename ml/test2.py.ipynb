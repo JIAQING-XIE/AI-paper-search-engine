{
 "cells": [
  {
   "cell_type": "code",
   "execution_count": 1,
   "id": "1a742a95",
   "metadata": {},
   "outputs": [
    {
     "name": "stdout",
     "output_type": "stream",
     "text": [
      "Collecting git+git://github.com/miso-belica/sumy.git\n",
      "  Cloning git://github.com/miso-belica/sumy.git to /private/var/folders/bk/bk688jd92wsf3w_s0994tfrh0000gn/T/pip-req-build-44iy0gen\n",
      "  Running command git clone -q git://github.com/miso-belica/sumy.git /private/var/folders/bk/bk688jd92wsf3w_s0994tfrh0000gn/T/pip-req-build-44iy0gen\n",
      "  Resolved git://github.com/miso-belica/sumy.git to commit 87fc584b3b984732ba63d902e0701dd883749899\n",
      "Requirement already satisfied: docopt<0.7,>=0.6.1 in /Users/jw/opt/anaconda3/envs/ttds/lib/python3.8/site-packages (from sumy==0.9.0) (0.6.2)\n",
      "Requirement already satisfied: breadability>=0.1.20 in /Users/jw/opt/anaconda3/envs/ttds/lib/python3.8/site-packages (from sumy==0.9.0) (0.1.20)\n",
      "Requirement already satisfied: requests>=2.7.0 in /Users/jw/opt/anaconda3/envs/ttds/lib/python3.8/site-packages (from sumy==0.9.0) (2.27.1)\n",
      "Requirement already satisfied: pycountry>=18.2.23 in /Users/jw/opt/anaconda3/envs/ttds/lib/python3.8/site-packages (from sumy==0.9.0) (22.1.10)\n",
      "Requirement already satisfied: nltk>=3.0.2 in /Users/jw/opt/anaconda3/envs/ttds/lib/python3.8/site-packages (from sumy==0.9.0) (3.7)\n",
      "Requirement already satisfied: lxml>=2.0 in /Users/jw/opt/anaconda3/envs/ttds/lib/python3.8/site-packages (from breadability>=0.1.20->sumy==0.9.0) (4.8.0)\n",
      "Requirement already satisfied: chardet in /Users/jw/opt/anaconda3/envs/ttds/lib/python3.8/site-packages (from breadability>=0.1.20->sumy==0.9.0) (4.0.0)\n",
      "Requirement already satisfied: click in /Users/jw/opt/anaconda3/envs/ttds/lib/python3.8/site-packages (from nltk>=3.0.2->sumy==0.9.0) (8.0.4)\n",
      "Requirement already satisfied: regex>=2021.8.3 in /Users/jw/opt/anaconda3/envs/ttds/lib/python3.8/site-packages (from nltk>=3.0.2->sumy==0.9.0) (2022.3.2)\n",
      "Requirement already satisfied: tqdm in /Users/jw/opt/anaconda3/envs/ttds/lib/python3.8/site-packages (from nltk>=3.0.2->sumy==0.9.0) (4.63.0)\n",
      "Requirement already satisfied: joblib in /Users/jw/opt/anaconda3/envs/ttds/lib/python3.8/site-packages (from nltk>=3.0.2->sumy==0.9.0) (1.1.0)\n",
      "Requirement already satisfied: setuptools in /Users/jw/opt/anaconda3/envs/ttds/lib/python3.8/site-packages (from pycountry>=18.2.23->sumy==0.9.0) (58.0.4)\n",
      "Requirement already satisfied: charset-normalizer~=2.0.0 in /Users/jw/opt/anaconda3/envs/ttds/lib/python3.8/site-packages (from requests>=2.7.0->sumy==0.9.0) (2.0.12)\n",
      "Requirement already satisfied: certifi>=2017.4.17 in /Users/jw/opt/anaconda3/envs/ttds/lib/python3.8/site-packages (from requests>=2.7.0->sumy==0.9.0) (2021.10.8)\n",
      "Requirement already satisfied: idna<4,>=2.5 in /Users/jw/opt/anaconda3/envs/ttds/lib/python3.8/site-packages (from requests>=2.7.0->sumy==0.9.0) (3.3)\n",
      "Requirement already satisfied: urllib3<1.27,>=1.21.1 in /Users/jw/opt/anaconda3/envs/ttds/lib/python3.8/site-packages (from requests>=2.7.0->sumy==0.9.0) (1.26.8)\n"
     ]
    }
   ],
   "source": [
    "!pip install git+git://github.com/miso-belica/sumy.git  # for the fresh version"
   ]
  },
  {
   "cell_type": "code",
   "execution_count": 2,
   "id": "0aa2afa6",
   "metadata": {},
   "outputs": [],
   "source": [
    "from __future__ import absolute_import\n",
    "from __future__ import division, print_function, unicode_literals\n",
    "\n",
    "from sumy.parsers.html import HtmlParser\n",
    "from sumy.parsers.plaintext import PlaintextParser\n",
    "from sumy.nlp.tokenizers import Tokenizer\n",
    "from sumy.summarizers.lsa import LsaSummarizer as Summarizer\n",
    "from sumy.nlp.stemmers import Stemmer\n",
    "from sumy.utils import get_stop_words"
   ]
  },
  {
   "cell_type": "code",
   "execution_count": 13,
   "id": "65e2b503",
   "metadata": {},
   "outputs": [
    {
     "name": "stdout",
     "output_type": "stream",
     "text": [
      "In this work, we aim at predicting new facts under a challenging setting where only limited training instances are available.\n",
      "Experimental results show that the proposed approach outperforms previous methods regarding low resource settings for both link prediction and relation extraction.\n"
     ]
    }
   ],
   "source": [
    "LANGUAGE = \"english\"\n",
    "SENTENCES_COUNT = 2\n",
    "\n",
    "if __name__ == \"__main__\":\n",
    "    parser = PlaintextParser.from_file(\"document.txt\", Tokenizer(LANGUAGE))\n",
    "    stemmer = Stemmer(LANGUAGE)\n",
    "\n",
    "    summarizer = Summarizer(stemmer)\n",
    "    summarizer.stop_words = get_stop_words(LANGUAGE)\n",
    "\n",
    "    for sentence in summarizer(parser.document, SENTENCES_COUNT):\n",
    "        print(sentence)"
   ]
  },
  {
   "cell_type": "code",
   "execution_count": null,
   "id": "3b4230f2",
   "metadata": {},
   "outputs": [],
   "source": []
  }
 ],
 "metadata": {
  "kernelspec": {
   "display_name": "Python 3 (ipykernel)",
   "language": "python",
   "name": "python3"
  },
  "language_info": {
   "codemirror_mode": {
    "name": "ipython",
    "version": 3
   },
   "file_extension": ".py",
   "mimetype": "text/x-python",
   "name": "python",
   "nbconvert_exporter": "python",
   "pygments_lexer": "ipython3",
   "version": "3.8.12"
  }
 },
 "nbformat": 4,
 "nbformat_minor": 5
}
