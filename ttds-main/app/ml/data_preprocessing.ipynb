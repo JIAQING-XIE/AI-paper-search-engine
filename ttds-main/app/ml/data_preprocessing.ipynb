{
 "cells": [
  {
   "cell_type": "code",
   "execution_count": 1,
   "id": "c3a38ede",
   "metadata": {
    "scrolled": true
   },
   "outputs": [
    {
     "data": {
      "text/plain": [
       "'c:\\\\Users\\\\ROG\\\\Desktop\\\\test_ttds\\\\ttds-main\\\\app\\\\ml'"
      ]
     },
     "execution_count": 1,
     "metadata": {},
     "output_type": "execute_result"
    }
   ],
   "source": [
    "import os\n",
    "os.getcwd()"
   ]
  },
  {
   "cell_type": "code",
   "execution_count": 2,
   "id": "d71f59f6",
   "metadata": {},
   "outputs": [],
   "source": [
    "os.chdir(\"c:\\\\Users\\\\ROG\\\\Desktop\\\\test_ttds\\\\ttds-main\\\\app\\\\ml\")"
   ]
  },
  {
   "cell_type": "code",
   "execution_count": 4,
   "id": "965d5314",
   "metadata": {},
   "outputs": [
    {
     "name": "stdout",
     "output_type": "stream",
     "text": [
      "./Papers/AAAI/aaai_2010.csv\n",
      "./Papers/AAAI/aaai_2010_extended.csv\n",
      "./Papers/AAAI/aaai_2011.csv\n",
      "./Papers/AAAI/aaai_2011_extended.csv\n",
      "./Papers/AAAI/aaai_2012.csv\n",
      "./Papers/AAAI/aaai_2012_extended.csv\n",
      "./Papers/AAAI/aaai_2013.csv\n",
      "./Papers/AAAI/aaai_2013_extended.csv\n",
      "./Papers/AAAI/aaai_2014.csv\n",
      "./Papers/AAAI/aaai_2014_extended.csv\n",
      "./Papers/AAAI/aaai_2015.csv\n",
      "./Papers/AAAI/aaai_2015_extended.csv\n",
      "./Papers/AAAI/aaai_2016.csv\n",
      "./Papers/AAAI/aaai_2016_extended.csv\n",
      "./Papers/AAAI/aaai_2017.csv\n",
      "./Papers/AAAI/aaai_2017_extended.csv\n",
      "./Papers/AAAI/aaai_2020.csv\n",
      "./Papers/AAAI/aaai_2020_extended.csv\n",
      "./Papers/AAAI/aaai_2021.csv\n",
      "./Papers/AAAI/aaai_2021_extended.csv\n",
      "./Papers/ACL/acl_2010.csv\n",
      "./Papers/ACL/acl_2010_extended.csv\n",
      "./Papers/ACL/acl_2011.csv\n",
      "./Papers/ACL/acl_2011_extended.csv\n",
      "./Papers/ACL/acl_2012.csv\n",
      "./Papers/ACL/acl_2012_extended.csv\n",
      "./Papers/ACL/acl_2013.csv\n",
      "./Papers/ACL/acl_2013_extended.csv\n",
      "./Papers/ACL/acl_2014.csv\n",
      "./Papers/ACL/acl_2014_extended.csv\n",
      "./Papers/ACL/acl_2015.csv\n",
      "./Papers/ACL/acl_2015_extended.csv\n",
      "./Papers/ACL/acl_2016.csv\n",
      "./Papers/ACL/acl_2016_extended.csv\n",
      "./Papers/ACL/acl_2017.csv\n",
      "./Papers/ACL/acl_2017_extended.csv\n",
      "./Papers/ACL/acl_2018.csv\n",
      "./Papers/ACL/acl_2018_extended.csv\n",
      "./Papers/ACL/acl_2019.csv\n",
      "./Papers/ACL/acl_2019_extended.csv\n",
      "./Papers/ACL/acl_2020.csv\n",
      "./Papers/ACL/acl_2020_extended.csv\n",
      "./Papers/ACL/acl_2021.csv\n",
      "./Papers/ACL/acl_2021_extended.csv\n",
      "./Papers/CVPR/cvpr_2013.csv\n",
      "./Papers/CVPR/cvpr_2013_extended.csv\n",
      "./Papers/CVPR/cvpr_2014.csv\n",
      "./Papers/CVPR/cvpr_2014_extended.csv\n",
      "./Papers/CVPR/cvpr_2015.csv\n",
      "./Papers/CVPR/cvpr_2015_extended.csv\n",
      "./Papers/CVPR/cvpr_2016.csv\n",
      "./Papers/CVPR/cvpr_2016_extended.csv\n",
      "./Papers/CVPR/cvpr_2017.csv\n",
      "./Papers/CVPR/cvpr_2017_extended.csv\n",
      "./Papers/CVPR/cvpr_2018.csv\n",
      "./Papers/CVPR/cvpr_2018_extended.csv\n",
      "./Papers/CVPR/cvpr_2019.csv\n",
      "./Papers/CVPR/cvpr_2019_extended.csv\n",
      "./Papers/CVPR/cvpr_2020.csv\n",
      "./Papers/CVPR/cvpr_2020_extended.csv\n",
      "./Papers/CVPR/cvpr_2021.csv\n",
      "./Papers/CVPR/cvpr_2021_extended.csv\n",
      "./Papers/EMNLP/emnlp_2010.csv\n",
      "./Papers/EMNLP/emnlp_2010_extended.csv\n",
      "./Papers/EMNLP/emnlp_2011.csv\n",
      "./Papers/EMNLP/emnlp_2011_extended.csv\n",
      "./Papers/EMNLP/emnlp_2012.csv\n",
      "./Papers/EMNLP/emnlp_2012_extended.csv\n",
      "./Papers/EMNLP/emnlp_2013.csv\n",
      "./Papers/EMNLP/emnlp_2013_extended.csv\n",
      "./Papers/EMNLP/emnlp_2014.csv\n",
      "./Papers/EMNLP/emnlp_2014_extended.csv\n",
      "./Papers/EMNLP/emnlp_2015.csv\n",
      "./Papers/EMNLP/emnlp_2015_extended.csv\n",
      "./Papers/EMNLP/emnlp_2016.csv\n",
      "./Papers/EMNLP/emnlp_2016_extended.csv\n",
      "./Papers/EMNLP/emnlp_2017.csv\n",
      "./Papers/EMNLP/emnlp_2017_extended.csv\n",
      "./Papers/EMNLP/emnlp_2018.csv\n",
      "./Papers/EMNLP/emnlp_2018_extended.csv\n",
      "./Papers/EMNLP/emnlp_2019.csv\n",
      "./Papers/EMNLP/emnlp_2019_extended.csv\n",
      "./Papers/EMNLP/emnlp_2020.csv\n",
      "./Papers/EMNLP/emnlp_2020_extended.csv\n",
      "./Papers/EMNLP/emnlp_2021.csv\n",
      "./Papers/EMNLP/emnlp_2021_extended.csv\n",
      "./Papers/ICCV/iccv_2013.csv\n",
      "./Papers/ICCV/iccv_2013_extended.csv\n",
      "./Papers/ICCV/iccv_2015.csv\n",
      "./Papers/ICCV/iccv_2015_extended.csv\n",
      "./Papers/ICCV/iccv_2017.csv\n",
      "./Papers/ICCV/iccv_2017_extended.csv\n",
      "./Papers/ICCV/iccv_2019.csv\n",
      "./Papers/ICCV/iccv_2019_extended.csv\n",
      "./Papers/ICCV/iccv_2021.csv\n",
      "./Papers/ICCV/iccv_2021_extended.csv\n",
      "./Papers/ICLR/iclr_2013.csv\n",
      "./Papers/ICLR/iclr_2013_extended.csv\n",
      "./Papers/ICLR/iclr_2014.csv\n",
      "./Papers/ICLR/iclr_2014_extended.csv\n",
      "./Papers/ICLR/iclr_2015.csv\n",
      "./Papers/ICLR/iclr_2015_extended.csv\n",
      "./Papers/ICLR/iclr_2016.csv\n",
      "./Papers/ICLR/iclr_2016_extended.csv\n",
      "./Papers/ICML/icml_2013.csv\n",
      "./Papers/ICML/icml_2013_extended.csv\n",
      "./Papers/ICML/icml_2014.csv\n",
      "./Papers/ICML/icml_2014_extended.csv\n",
      "./Papers/ICML/icml_2015.csv\n",
      "./Papers/ICML/icml_2015_extended.csv\n",
      "./Papers/ICML/icml_2016.csv\n",
      "./Papers/ICML/icml_2016_extended.csv\n",
      "./Papers/ICML/icml_2017.csv\n",
      "./Papers/ICML/icml_2017_extended.csv\n",
      "./Papers/ICML/icml_2018.csv\n",
      "./Papers/ICML/icml_2018_extended.csv\n",
      "./Papers/ICML/icml_2019.csv\n",
      "./Papers/ICML/icml_2019_extended.csv\n",
      "./Papers/ICML/icml_2020.csv\n",
      "./Papers/ICML/icml_2020_extended.csv\n",
      "./Papers/ICML/icml_2021.csv\n",
      "./Papers/ICML/icml_2021_extended.csv\n",
      "./Papers/ICRA/icra_2010.csv\n",
      "./Papers/ICRA/icra_2010_extended.csv\n",
      "./Papers/ICRA/icra_2011.csv\n",
      "./Papers/ICRA/icra_2011_extended.csv\n",
      "./Papers/ICRA/icra_2012.csv\n",
      "./Papers/ICRA/icra_2012_extended.csv\n",
      "./Papers/ICRA/icra_2013.csv\n",
      "./Papers/ICRA/icra_2013_extended.csv\n",
      "./Papers/ICRA/icra_2014.csv\n",
      "./Papers/ICRA/icra_2014_extended.csv\n",
      "./Papers/ICRA/icra_2015.csv\n",
      "./Papers/ICRA/icra_2015_extended.csv\n",
      "./Papers/ICRA/icra_2016.csv\n",
      "./Papers/ICRA/icra_2016_extended.csv\n",
      "./Papers/ICRA/icra_2017.csv\n",
      "./Papers/ICRA/icra_2017_extended.csv\n",
      "./Papers/ICRA/icra_2018.csv\n",
      "./Papers/ICRA/icra_2018_extended.csv\n",
      "./Papers/ICRA/icra_2019.csv\n",
      "./Papers/ICRA/icra_2019_extended.csv\n",
      "./Papers/ICRA/icra_2020.csv\n",
      "./Papers/ICRA/icra_2020_extended.csv\n",
      "./Papers/ICRA/icra_2021.csv\n",
      "./Papers/ICRA/icra_2021_extended.csv\n",
      "./Papers/KDD/kdd_2010.csv\n",
      "./Papers/KDD/kdd_2010_extended.csv\n",
      "./Papers/KDD/kdd_2011.csv\n",
      "./Papers/KDD/kdd_2011_extended.csv\n",
      "./Papers/KDD/kdd_2012.csv\n",
      "./Papers/KDD/kdd_2012_extended.csv\n",
      "./Papers/KDD/kdd_2013.csv\n",
      "./Papers/KDD/kdd_2013_extended.csv\n",
      "./Papers/KDD/kdd_2014.csv\n",
      "./Papers/KDD/kdd_2014_extended.csv\n",
      "./Papers/KDD/kdd_2015.csv\n",
      "./Papers/KDD/kdd_2015_extended.csv\n",
      "./Papers/KDD/kdd_2016.csv\n",
      "./Papers/KDD/kdd_2016_extended.csv\n",
      "./Papers/KDD/kdd_2017.csv\n",
      "./Papers/KDD/kdd_2017_extended.csv\n",
      "./Papers/KDD/kdd_2018.csv\n",
      "./Papers/KDD/kdd_2018_extended.csv\n",
      "./Papers/KDD/kdd_2019.csv\n",
      "./Papers/KDD/kdd_2019_extended.csv\n",
      "./Papers/KDD/kdd_2020.csv\n",
      "./Papers/KDD/kdd_2020_extended.csv\n",
      "./Papers/KDD/kdd_2021.csv\n",
      "./Papers/KDD/kdd_2021_extended.csv\n",
      "./Papers/NeurIPS/neurips_2009.csv\n",
      "./Papers/NeurIPS/neurips_2010.csv\n",
      "./Papers/NeurIPS/neurips_2010_extended.csv\n",
      "./Papers/NeurIPS/neurips_2011.csv\n",
      "./Papers/NeurIPS/neurips_2011_extended.csv\n",
      "./Papers/NeurIPS/neurips_2012.csv\n",
      "./Papers/NeurIPS/neurips_2012_extended.csv\n",
      "./Papers/NeurIPS/neurips_2013.csv\n",
      "./Papers/NeurIPS/neurips_2013_extended.csv\n",
      "./Papers/NeurIPS/neurips_2014.csv\n",
      "./Papers/NeurIPS/neurips_2014_extended.csv\n",
      "./Papers/NeurIPS/neurips_2015.csv\n",
      "./Papers/NeurIPS/neurips_2015_extended.csv\n",
      "./Papers/NeurIPS/neurips_2016.csv\n",
      "./Papers/NeurIPS/neurips_2016_extended.csv\n",
      "./Papers/NeurIPS/neurips_2017.csv\n",
      "./Papers/NeurIPS/neurips_2017_extended.csv\n",
      "./Papers/NeurIPS/neurips_2018.csv\n",
      "./Papers/NeurIPS/neurips_2018_extended.csv\n",
      "./Papers/NeurIPS/neurips_2019.csv\n",
      "./Papers/NeurIPS/neurips_2019_extended.csv\n",
      "./Papers/NeurIPS/neurips_2020.csv\n",
      "./Papers/NeurIPS/neurips_2020_extended.csv\n",
      "./Papers/NeurIPS/neurips_2021.csv\n",
      "./Papers/NeurIPS/neurips_2021_extended.csv\n",
      "./Papers/SIGIR/sigir_2010.csv\n",
      "./Papers/SIGIR/sigir_2010_extended.csv\n",
      "./Papers/SIGIR/sigir_2011.csv\n",
      "./Papers/SIGIR/sigir_2011_extended.csv\n",
      "./Papers/SIGIR/sigir_2012.csv\n",
      "./Papers/SIGIR/sigir_2012_extended.csv\n",
      "./Papers/SIGIR/sigir_2013.csv\n",
      "./Papers/SIGIR/sigir_2013_extended.csv\n",
      "./Papers/SIGIR/sigir_2014.csv\n",
      "./Papers/SIGIR/sigir_2014_extended.csv\n",
      "./Papers/SIGIR/sigir_2015.csv\n",
      "./Papers/SIGIR/sigir_2015_extended.csv\n",
      "./Papers/SIGIR/sigir_2016.csv\n",
      "./Papers/SIGIR/sigir_2016_extended.csv\n",
      "./Papers/SIGIR/sigir_2017.csv\n",
      "./Papers/SIGIR/sigir_2017_extended.csv\n",
      "./Papers/SIGIR/sigir_2018.csv\n",
      "./Papers/SIGIR/sigir_2018_extended.csv\n",
      "./Papers/SIGIR/sigir_2019.csv\n",
      "./Papers/SIGIR/sigir_2019_extended.csv\n",
      "./Papers/SIGIR/sigir_2020.csv\n",
      "./Papers/SIGIR/sigir_2020_extended.csv\n",
      "./Papers/SIGIR/sigir_2021.csv\n",
      "./Papers/SIGIR/sigir_2021_extended.csv\n",
      "./Papers/WWW/www_2010.csv\n",
      "./Papers/WWW/www_2010_extended.csv\n",
      "./Papers/WWW/www_2011.csv\n",
      "./Papers/WWW/www_2011_extended.csv\n",
      "./Papers/WWW/www_2012.csv\n",
      "./Papers/WWW/www_2012_extended.csv\n",
      "./Papers/WWW/www_2013.csv\n",
      "./Papers/WWW/www_2013_extended.csv\n",
      "./Papers/WWW/www_2014.csv\n",
      "./Papers/WWW/www_2014_extended.csv\n",
      "./Papers/WWW/www_2015.csv\n",
      "./Papers/WWW/www_2015_extended.csv\n",
      "./Papers/WWW/www_2016.csv\n",
      "./Papers/WWW/www_2016_extended.csv\n",
      "./Papers/WWW/www_2017.csv\n",
      "./Papers/WWW/www_2017_extended.csv\n",
      "./Papers/WWW/www_2018.csv\n",
      "./Papers/WWW/www_2018_extended.csv\n",
      "./Papers/WWW/www_2019.csv\n",
      "./Papers/WWW/www_2019_extended.csv\n",
      "./Papers/WWW/www_2020.csv\n",
      "./Papers/WWW/www_2020_extended.csv\n",
      "./Papers/WWW/www_2021.csv\n",
      "./Papers/WWW/www_2021_extended.csv\n"
     ]
    }
   ],
   "source": [
    "import pandas as pd\n",
    "import os\n",
    "\n",
    "base_df = pd.DataFrame()\n",
    "\n",
    "clean_data_folder = \"./Papers\"\n",
    "\n",
    "for filename in os.listdir(clean_data_folder):\n",
    "    full_path1 = f\"{clean_data_folder}/{filename}\"\n",
    "    for filename2 in os.listdir(full_path1):\n",
    "        full_path = f\"{clean_data_folder}/{filename}/{filename2}\"\n",
    "        print(full_path)\n",
    "        \n",
    "        # load data into a DataFrame\n",
    "        new_df = pd.read_csv(full_path)\n",
    "\n",
    "        # merge into the base DataFrame\n",
    "        base_df = pd.concat([base_df, new_df])"
   ]
  },
  {
   "cell_type": "code",
   "execution_count": 5,
   "id": "74796447",
   "metadata": {},
   "outputs": [],
   "source": [
    "base_df.to_csv(f\"./Papers/papers.csv\", index=False)"
   ]
  },
  {
   "cell_type": "code",
   "execution_count": 6,
   "id": "bb766f96",
   "metadata": {},
   "outputs": [
    {
     "data": {
      "text/plain": [
       "123690"
      ]
     },
     "execution_count": 6,
     "metadata": {},
     "output_type": "execute_result"
    }
   ],
   "source": [
    "len(base_df)"
   ]
  },
  {
   "cell_type": "code",
   "execution_count": 7,
   "id": "84be82b5",
   "metadata": {
    "scrolled": true
   },
   "outputs": [
    {
     "data": {
      "text/html": [
       "<div>\n",
       "<style scoped>\n",
       "    .dataframe tbody tr th:only-of-type {\n",
       "        vertical-align: middle;\n",
       "    }\n",
       "\n",
       "    .dataframe tbody tr th {\n",
       "        vertical-align: top;\n",
       "    }\n",
       "\n",
       "    .dataframe thead th {\n",
       "        text-align: right;\n",
       "    }\n",
       "</style>\n",
       "<table border=\"1\" class=\"dataframe\">\n",
       "  <thead>\n",
       "    <tr style=\"text-align: right;\">\n",
       "      <th></th>\n",
       "      <th>conference</th>\n",
       "      <th>url</th>\n",
       "      <th>title</th>\n",
       "      <th>authors</th>\n",
       "      <th>abstract</th>\n",
       "      <th>citations</th>\n",
       "    </tr>\n",
       "  </thead>\n",
       "  <tbody>\n",
       "    <tr>\n",
       "      <th>0</th>\n",
       "      <td>aaai</td>\n",
       "      <td>https://www.aaai.org/ocs/index.php/AAAI/AAAI10...</td>\n",
       "      <td>A New Algorithm for Weighted Partial MaxSAT</td>\n",
       "      <td>Carlos Ansotegui, Maria Luisa Bonet, Jordi Levy</td>\n",
       "      <td>We present and implement a Weighted Partial Ma...</td>\n",
       "      <td>NaN</td>\n",
       "    </tr>\n",
       "    <tr>\n",
       "      <th>1</th>\n",
       "      <td>aaai</td>\n",
       "      <td>https://www.aaai.org/ocs/index.php/AAAI/AAAI10...</td>\n",
       "      <td>Exploiting Monotonicity in Interval Constraint...</td>\n",
       "      <td>Ignacio Araya, Gilles Trombettoni, Bertrand Neveu</td>\n",
       "      <td>We propose in this paper a new interval constr...</td>\n",
       "      <td>NaN</td>\n",
       "    </tr>\n",
       "    <tr>\n",
       "      <th>2</th>\n",
       "      <td>aaai</td>\n",
       "      <td>https://www.aaai.org/ocs/index.php/AAAI/AAAI10...</td>\n",
       "      <td>A Restriction of Extended Resolution for Claus...</td>\n",
       "      <td>Gilles Audemard, George Katsirelos, Laurent Simon</td>\n",
       "      <td>Modern complete SAT solvers almost uniformly i...</td>\n",
       "      <td>NaN</td>\n",
       "    </tr>\n",
       "    <tr>\n",
       "      <th>3</th>\n",
       "      <td>aaai</td>\n",
       "      <td>https://www.aaai.org/ocs/index.php/AAAI/AAAI10...</td>\n",
       "      <td>Transmission Network Expansion Planning with S...</td>\n",
       "      <td>Russell Bent, Alan Berscheid, G. Loren Toole</td>\n",
       "      <td>Within the electric power literature the trans...</td>\n",
       "      <td>NaN</td>\n",
       "    </tr>\n",
       "    <tr>\n",
       "      <th>4</th>\n",
       "      <td>aaai</td>\n",
       "      <td>https://www.aaai.org/ocs/index.php/AAAI/AAAI10...</td>\n",
       "      <td>Propagating Conjunctions of AllDifferent Const...</td>\n",
       "      <td>Christian Bessiere, George Katsirelos, Nina Na...</td>\n",
       "      <td>We study propagation algorithms for the conjun...</td>\n",
       "      <td>NaN</td>\n",
       "    </tr>\n",
       "  </tbody>\n",
       "</table>\n",
       "</div>"
      ],
      "text/plain": [
       "  conference                                                url  \\\n",
       "0       aaai  https://www.aaai.org/ocs/index.php/AAAI/AAAI10...   \n",
       "1       aaai  https://www.aaai.org/ocs/index.php/AAAI/AAAI10...   \n",
       "2       aaai  https://www.aaai.org/ocs/index.php/AAAI/AAAI10...   \n",
       "3       aaai  https://www.aaai.org/ocs/index.php/AAAI/AAAI10...   \n",
       "4       aaai  https://www.aaai.org/ocs/index.php/AAAI/AAAI10...   \n",
       "\n",
       "                                               title  \\\n",
       "0        A New Algorithm for Weighted Partial MaxSAT   \n",
       "1  Exploiting Monotonicity in Interval Constraint...   \n",
       "2  A Restriction of Extended Resolution for Claus...   \n",
       "3  Transmission Network Expansion Planning with S...   \n",
       "4  Propagating Conjunctions of AllDifferent Const...   \n",
       "\n",
       "                                             authors  \\\n",
       "0    Carlos Ansotegui, Maria Luisa Bonet, Jordi Levy   \n",
       "1  Ignacio Araya, Gilles Trombettoni, Bertrand Neveu   \n",
       "2  Gilles Audemard, George Katsirelos, Laurent Simon   \n",
       "3       Russell Bent, Alan Berscheid, G. Loren Toole   \n",
       "4  Christian Bessiere, George Katsirelos, Nina Na...   \n",
       "\n",
       "                                            abstract  citations  \n",
       "0  We present and implement a Weighted Partial Ma...        NaN  \n",
       "1  We propose in this paper a new interval constr...        NaN  \n",
       "2  Modern complete SAT solvers almost uniformly i...        NaN  \n",
       "3  Within the electric power literature the trans...        NaN  \n",
       "4  We study propagation algorithms for the conjun...        NaN  "
      ]
     },
     "execution_count": 7,
     "metadata": {},
     "output_type": "execute_result"
    }
   ],
   "source": [
    "base_df.head()"
   ]
  },
  {
   "cell_type": "code",
   "execution_count": 8,
   "id": "2a619679",
   "metadata": {},
   "outputs": [
    {
     "data": {
      "text/plain": [
       "Index(['conference', 'url', 'title', 'authors', 'abstract', 'citations'], dtype='object')"
      ]
     },
     "execution_count": 8,
     "metadata": {},
     "output_type": "execute_result"
    }
   ],
   "source": [
    "base_df.columns"
   ]
  },
  {
   "cell_type": "code",
   "execution_count": null,
   "id": "69a10bfb",
   "metadata": {},
   "outputs": [],
   "source": []
  },
  {
   "cell_type": "code",
   "execution_count": 9,
   "id": "d4c68e23",
   "metadata": {},
   "outputs": [
    {
     "data": {
      "text/plain": [
       "(123690,)"
      ]
     },
     "execution_count": 9,
     "metadata": {},
     "output_type": "execute_result"
    }
   ],
   "source": [
    "base_df['abstract'].shape"
   ]
  },
  {
   "cell_type": "code",
   "execution_count": 10,
   "id": "18602f6d",
   "metadata": {},
   "outputs": [
    {
     "data": {
      "text/plain": [
       "123690"
      ]
     },
     "execution_count": 10,
     "metadata": {},
     "output_type": "execute_result"
    }
   ],
   "source": [
    "len(base_df['abstract'].values)"
   ]
  },
  {
   "cell_type": "code",
   "execution_count": 11,
   "id": "c2cd7403",
   "metadata": {},
   "outputs": [
    {
     "data": {
      "text/plain": [
       "'We present and implement a Weighted Partial MaxSAT solver based on successive calls to a SAT solver. We prove the correctness of our algorithm and compare our solver with other Weighted Partial MaxSAT solvers.'"
      ]
     },
     "execution_count": 11,
     "metadata": {},
     "output_type": "execute_result"
    }
   ],
   "source": [
    "base_df['abstract'].values[0]"
   ]
  },
  {
   "cell_type": "code",
   "execution_count": 12,
   "id": "100e265b",
   "metadata": {},
   "outputs": [
    {
     "data": {
      "text/plain": [
       "'A New Algorithm for Weighted Partial MaxSAT'"
      ]
     },
     "execution_count": 12,
     "metadata": {},
     "output_type": "execute_result"
    }
   ],
   "source": [
    "base_df['title'].values[0]"
   ]
  },
  {
   "cell_type": "code",
   "execution_count": 15,
   "id": "46c48965",
   "metadata": {},
   "outputs": [],
   "source": [
    "\n",
    "from keybert import KeyBERT"
   ]
  },
  {
   "cell_type": "code",
   "execution_count": 16,
   "id": "27ac6630",
   "metadata": {},
   "outputs": [
    {
     "name": "stderr",
     "output_type": "stream",
     "text": [
      "Downloading: 100%|██████████| 1.18k/1.18k [00:00<00:00, 588kB/s]\n",
      "Downloading: 100%|██████████| 10.2k/10.2k [00:00<00:00, 3.39MB/s]\n",
      "Downloading: 100%|██████████| 612/612 [00:00<00:00, 612kB/s]\n",
      "Downloading: 100%|██████████| 116/116 [00:00<00:00, 116kB/s]\n",
      "Downloading: 100%|██████████| 39.3k/39.3k [00:00<00:00, 432kB/s]\n",
      "Downloading: 100%|██████████| 349/349 [00:00<00:00, 349kB/s]\n",
      "Downloading: 100%|██████████| 90.9M/90.9M [00:04<00:00, 21.4MB/s]\n",
      "Downloading: 100%|██████████| 53.0/53.0 [00:00<00:00, 26.5kB/s]\n",
      "Downloading: 100%|██████████| 112/112 [00:00<00:00, 56.0kB/s]\n",
      "Downloading: 100%|██████████| 466k/466k [00:00<00:00, 1.26MB/s]\n",
      "Downloading: 100%|██████████| 350/350 [00:00<00:00, 350kB/s]\n",
      "Downloading: 100%|██████████| 13.2k/13.2k [00:00<00:00, 6.57MB/s]\n",
      "Downloading: 100%|██████████| 232k/232k [00:00<00:00, 631kB/s] \n",
      "Downloading: 100%|██████████| 190/190 [00:00<00:00, 190kB/s]\n"
     ]
    }
   ],
   "source": [
    "kw_model = KeyBERT()"
   ]
  },
  {
   "cell_type": "code",
   "execution_count": null,
   "id": "8c16ec76",
   "metadata": {},
   "outputs": [
    {
     "data": {
      "text/plain": [
       "[('flying', 0.2808),\n",
       " ('estimation', 0.279),\n",
       " ('localization', 0.2661),\n",
       " ('inertial', 0.251),\n",
       " ('laser', 0.2365)]"
      ]
     },
     "execution_count": 31,
     "metadata": {},
     "output_type": "execute_result"
    }
   ],
   "source": [
    "keywords = kw_model.extract_keywords(base_df['abstract'].values[0])\n",
    "keywords"
   ]
  },
  {
   "cell_type": "code",
   "execution_count": null,
   "id": "0c30dc6f",
   "metadata": {},
   "outputs": [
    {
     "data": {
      "text/plain": [
       "[('gps', 0.4113),\n",
       " ('flight', 0.3475),\n",
       " ('estimation', 0.2997),\n",
       " ('onboard', 0.2711),\n",
       " ('sensing', 0.2492)]"
      ]
     },
     "execution_count": 24,
     "metadata": {},
     "output_type": "execute_result"
    }
   ],
   "source": [
    "keywords2 = kw_model.extract_keywords(base_df['title'].values[0])\n",
    "keywords2"
   ]
  },
  {
   "cell_type": "code",
   "execution_count": null,
   "id": "a7e664e7",
   "metadata": {},
   "outputs": [],
   "source": [
    "a = \"Knowledge Graph Completion (KGC) has been proposed to improve Knowledge Graphs by filling in missing connections via link prediction or relation extraction. One of the main difficulties for KGC is a low resource problem. Previous approaches assume sufficient training triples to learn versatile vectors for entities and relations, or a satisfactory number of labeled sentences to train a competent relation extraction model. However, low resource relations are very common in KGs, and those newly added relations often do not have many known samples for training. In this work, we aim at predicting new facts under a challenging setting where only limited training instances are available. We propose a general framework called Weighted Relation Adversarial Network, which utilizes an adversarial procedure to help adapt knowledge/features learned from high resource relations to different but related low resource relations. Specifically, the framework takes advantage of a relation discriminator to distinguish between samples from different relations, and help learn relation-invariant features more transferable from source relations to target relations. Experimental results show that the proposed approach outperforms previous methods regarding low resource settings for both link prediction and relation extraction.\""
   ]
  },
  {
   "cell_type": "code",
   "execution_count": null,
   "id": "bd8b36fe",
   "metadata": {},
   "outputs": [
    {
     "data": {
      "text/plain": [
       "[('relations', 0.386),\n",
       " ('relation', 0.3409),\n",
       " ('resource', 0.29),\n",
       " ('knowledge', 0.2841),\n",
       " ('adversarial', 0.272)]"
      ]
     },
     "execution_count": 6,
     "metadata": {},
     "output_type": "execute_result"
    }
   ],
   "source": [
    "keyword = kw_model.extract_keywords(a)\n",
    "keyword"
   ]
  },
  {
   "cell_type": "code",
   "execution_count": null,
   "id": "9d006c2d",
   "metadata": {},
   "outputs": [
    {
     "data": {
      "text/plain": [
       "'Knowledge Graph Completion (KGC) has been proposed to improve Knowledge Graphs by filling in missing connections via link prediction or relation extraction. One of the main difficulties for KGC is a low resource problem. Previous approaches assume sufficient training triples to learn versatile vectors for entities and relations, or a satisfactory number of labeled sentences to train a competent relation extraction model. However, low resource relations are very common in KGs, and those newly added relations often do not have many known samples for training. In this work, we aim at predicting new facts under a challenging setting where only limited training instances are available. We propose a general framework called Weighted Relation Adversarial Network, which utilizes an adversarial procedure to help adapt knowledge/features learned from high resource relations to different but related low resource relations. Specifically, the framework takes advantage of a relation discriminator to distinguish between samples from different relations, and help learn relation-invariant features more transferable from source relations to target relations. Experimental results show that the proposed approach outperforms previous methods regarding low resource settings for both link prediction and relation extraction.'"
      ]
     },
     "execution_count": 7,
     "metadata": {},
     "output_type": "execute_result"
    }
   ],
   "source": [
    "a"
   ]
  },
  {
   "cell_type": "code",
   "execution_count": null,
   "id": "d16b66ff",
   "metadata": {},
   "outputs": [],
   "source": [
    "t = \"Relation Adversarial Network for Low Resource Knowledge Graph Completion\""
   ]
  },
  {
   "cell_type": "code",
   "execution_count": null,
   "id": "d8228ae3",
   "metadata": {},
   "outputs": [
    {
     "data": {
      "text/plain": [
       "[('relation', 0.4009),\n",
       " ('resource', 0.3486),\n",
       " ('adversarial', 0.3479),\n",
       " ('graph', 0.3437),\n",
       " ('knowledge', 0.3349)]"
      ]
     },
     "execution_count": 9,
     "metadata": {},
     "output_type": "execute_result"
    }
   ],
   "source": [
    "keyword = kw_model.extract_keywords(t)\n",
    "keyword"
   ]
  },
  {
   "cell_type": "code",
   "execution_count": null,
   "id": "7bbdbf52",
   "metadata": {},
   "outputs": [],
   "source": []
  }
 ],
 "metadata": {
  "kernelspec": {
   "display_name": "Python 3 (ipykernel)",
   "language": "python",
   "name": "python3"
  },
  "language_info": {
   "codemirror_mode": {
    "name": "ipython",
    "version": 3
   },
   "file_extension": ".py",
   "mimetype": "text/x-python",
   "name": "python",
   "nbconvert_exporter": "python",
   "pygments_lexer": "ipython3",
   "version": "3.8.8"
  }
 },
 "nbformat": 4,
 "nbformat_minor": 5
}
